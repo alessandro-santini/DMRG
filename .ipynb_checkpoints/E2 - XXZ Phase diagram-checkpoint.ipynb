{
 "cells": [
  {
   "cell_type": "code",
   "execution_count": 1,
   "id": "23ef10d5",
   "metadata": {},
   "outputs": [],
   "source": [
    "import dmrg1 as dmrg1\n",
    "import MPO_class as MPO\n",
    "\n",
    "import matplotlib.pyplot as plt\n",
    "import numpy as np\n",
    "\n",
    "plt.rc('text',usetex=True)"
   ]
  },
  {
   "cell_type": "code",
   "execution_count": null,
   "id": "2c9faf7b",
   "metadata": {},
   "outputs": [],
   "source": [
    "L   = 128\n",
    "chi = 64\n",
    "\n",
    "h_space     = np.linspace(-1.,1.,11)\n",
    "delta_space = np.linspace(-1.5,1.5,11)\n",
    "\n",
    "Mz  = MPO.getMzMPO(L)\n",
    "\n",
    "mz  = np.zeros((h_space.size,delta_space.size))\n",
    "\n",
    "for i, h in enumerate(h_space):\n",
    "    for j, delta in enumerate(delta_space):\n",
    "        print(i,j)\n",
    "        H = MPO.XXZMPO(L, delta, h)\n",
    "        engine = dmrg1.DMRG1(H)\n",
    "        engine.initialize(chi)\n",
    "        for n in range(8):\n",
    "            engine.dmrg_step()\n",
    "        mz[i,j] = Mz.contractMPOMPS(engine.MPS).real"
   ]
  },
  {
   "cell_type": "code",
   "execution_count": 32,
   "id": "2bcef4c5",
   "metadata": {},
   "outputs": [
    {
     "data": {
      "image/png": "[encoded data removed]",
      "text/plain": [
       "<Figure size 720x576 with 2 Axes>"
      ]
     },
     "metadata": {
      "needs_background": "light"
     },
     "output_type": "display_data"
    }
   ],
   "source": [
    "plt.figure(figsize=(10,8))\n",
    "plt.subplot(121)\n",
    "plt.imshow(np.abs(mz)/L,origin='lower',cmap=plt.cm.hot, extent = [delta_space[0],delta_space[-1],h_space[0],h_space[-1]])\n",
    "cb = plt.colorbar(orientation='horizontal')\n",
    "cb.ax.tick_params(labelsize=20)\n",
    "cb.set_label(\"$m_z$\", fontsize=20)\n",
    "plt.tick_params(labelsize=20)\n",
    "plt.xlabel(r\"$\\Delta$\",fontsize=32)\n",
    "plt.ylabel(r\"$h$\", fontsize=32)\n",
    "plt.tight_layout()\n",
    "plt.savefig(\"XXZ_PhaseDiag.png\",format='png',dpi=400)"
   ]
  },
  {
   "cell_type": "code",
   "execution_count": 46,
   "id": "83ddbb17",
   "metadata": {},
   "outputs": [
    {
     "name": "stdout",
     "output_type": "stream",
     "text": [
      "0\n"
     ]
    },
    {
     "name": "stderr",
     "output_type": "stream",
     "text": [
      "C:\\Users\\asant\\Documents\\GitHub\\DMRG\\LanczosRoutines.py:38: RuntimeWarning: beta[0] ~= 0 encountered during Lanczos iteration.\n",
      "  warnings.warn(\n"
     ]
    },
    {
     "ename": "Exception",
     "evalue": "MPS MPO length are different",
     "output_type": "error",
     "traceback": [
      "\u001b[1;31m---------------------------------------------------------------------------\u001b[0m",
      "\u001b[1;31mException\u001b[0m                                 Traceback (most recent call last)",
      "\u001b[1;32m<ipython-input-46-66ce6db865b5>\u001b[0m in \u001b[0;36m<module>\u001b[1;34m\u001b[0m\n\u001b[0;32m     11\u001b[0m     \u001b[1;32mfor\u001b[0m \u001b[0mn\u001b[0m \u001b[1;32min\u001b[0m \u001b[0mrange\u001b[0m\u001b[1;33m(\u001b[0m\u001b[1;36m20\u001b[0m\u001b[1;33m)\u001b[0m\u001b[1;33m:\u001b[0m\u001b[1;33m\u001b[0m\u001b[1;33m\u001b[0m\u001b[0m\n\u001b[0;32m     12\u001b[0m         \u001b[0mengine\u001b[0m\u001b[1;33m.\u001b[0m\u001b[0mdmrg_step\u001b[0m\u001b[1;33m(\u001b[0m\u001b[1;33m)\u001b[0m\u001b[1;33m\u001b[0m\u001b[1;33m\u001b[0m\u001b[0m\n\u001b[1;32m---> 13\u001b[1;33m     \u001b[0msmz_\u001b[0m\u001b[1;33m[\u001b[0m\u001b[0mj\u001b[0m\u001b[1;33m]\u001b[0m \u001b[1;33m=\u001b[0m \u001b[0mSMz\u001b[0m\u001b[1;33m.\u001b[0m\u001b[0mcontractMPOMPS\u001b[0m\u001b[1;33m(\u001b[0m\u001b[0mengine\u001b[0m\u001b[1;33m.\u001b[0m\u001b[0mMPS\u001b[0m\u001b[1;33m)\u001b[0m\u001b[1;33m.\u001b[0m\u001b[0mreal\u001b[0m\u001b[1;33m\u001b[0m\u001b[1;33m\u001b[0m\u001b[0m\n\u001b[0m",
      "\u001b[1;32m~\\Documents\\GitHub\\DMRG\\MPO_class.py\u001b[0m in \u001b[0;36mcontractMPOMPS\u001b[1;34m(self, MPS)\u001b[0m\n\u001b[0;32m     27\u001b[0m     \u001b[1;31m# M-M-M-M-M\u001b[0m\u001b[1;33m\u001b[0m\u001b[1;33m\u001b[0m\u001b[1;33m\u001b[0m\u001b[0m\n\u001b[0;32m     28\u001b[0m     \u001b[1;32mdef\u001b[0m \u001b[0mcontractMPOMPS\u001b[0m\u001b[1;33m(\u001b[0m\u001b[0mself\u001b[0m\u001b[1;33m,\u001b[0m \u001b[0mMPS\u001b[0m\u001b[1;33m)\u001b[0m\u001b[1;33m:\u001b[0m\u001b[1;33m\u001b[0m\u001b[1;33m\u001b[0m\u001b[0m\n\u001b[1;32m---> 29\u001b[1;33m        \u001b[1;32mif\u001b[0m\u001b[1;33m(\u001b[0m\u001b[0mMPS\u001b[0m\u001b[1;33m.\u001b[0m\u001b[0mL\u001b[0m \u001b[1;33m!=\u001b[0m \u001b[0mself\u001b[0m\u001b[1;33m.\u001b[0m\u001b[0mL\u001b[0m\u001b[1;33m)\u001b[0m\u001b[1;33m:\u001b[0m \u001b[1;32mraise\u001b[0m \u001b[0mException\u001b[0m\u001b[1;33m(\u001b[0m\u001b[1;34m'MPS MPO length are different'\u001b[0m\u001b[1;33m)\u001b[0m\u001b[1;33m\u001b[0m\u001b[1;33m\u001b[0m\u001b[0m\n\u001b[0m\u001b[0;32m     30\u001b[0m        \u001b[0mRtemp\u001b[0m \u001b[1;33m=\u001b[0m \u001b[0mnp\u001b[0m\u001b[1;33m.\u001b[0m\u001b[0mones\u001b[0m\u001b[1;33m(\u001b[0m\u001b[1;33m(\u001b[0m\u001b[1;36m1\u001b[0m\u001b[1;33m,\u001b[0m\u001b[1;36m1\u001b[0m\u001b[1;33m,\u001b[0m\u001b[1;36m1\u001b[0m\u001b[1;33m)\u001b[0m\u001b[1;33m,\u001b[0m\u001b[0mdtype\u001b[0m\u001b[1;33m=\u001b[0m\u001b[0mnp\u001b[0m\u001b[1;33m.\u001b[0m\u001b[0mcomplex128\u001b[0m\u001b[1;33m)\u001b[0m\u001b[1;33m\u001b[0m\u001b[1;33m\u001b[0m\u001b[0m\n\u001b[0;32m     31\u001b[0m        \u001b[1;32mfor\u001b[0m \u001b[0mi\u001b[0m \u001b[1;32min\u001b[0m \u001b[0mrange\u001b[0m\u001b[1;33m(\u001b[0m\u001b[0mself\u001b[0m\u001b[1;33m.\u001b[0m\u001b[0mL\u001b[0m\u001b[1;33m-\u001b[0m\u001b[1;36m1\u001b[0m\u001b[1;33m,\u001b[0m\u001b[1;36m0\u001b[0m\u001b[1;33m,\u001b[0m\u001b[1;33m-\u001b[0m\u001b[1;36m1\u001b[0m\u001b[1;33m)\u001b[0m\u001b[1;33m:\u001b[0m\u001b[1;33m\u001b[0m\u001b[1;33m\u001b[0m\u001b[0m\n",
      "\u001b[1;31mException\u001b[0m: MPS MPO length are different"
     ]
    }
   ],
   "source": [
    "h = 0\n",
    "L = 64\n",
    "chi=72\n",
    "delta_space_ = np.linspace(0,3.,32)\n",
    "smz_ = np.zeros_like(delta_space_)\n",
    "SMz = MPO.getStagMzMPO(L)\n",
    "\n",
    "for j, delta in enumerate(delta_space_):\n",
    "    print(j)\n",
    "    H = MPO.XXZMPO(L, delta, h)\n",
    "    engine = dmrg1.DMRG1(H)\n",
    "    engine.initialize(chi)\n",
    "    for n in range(20):\n",
    "        engine.dmrg_step()\n",
    "    smz_[j] = SMz.contractMPOMPS(engine.MPS).real"
   ]
  },
  {
   "cell_type": "code",
   "execution_count": 47,
   "id": "f0caabc1",
   "metadata": {},
   "outputs": [
    {
     "data": {
      "text/plain": [
       "[<matplotlib.lines.Line2D at 0x18c661217f0>]"
      ]
     },
     "execution_count": 47,
     "metadata": {},
     "output_type": "execute_result"
    },
    {
     "data": {
      "image/png": "[encoded data removed]",
      "text/plain": [
       "<Figure size 432x288 with 1 Axes>"
      ]
     },
     "metadata": {
      "needs_background": "light"
     },
     "output_type": "display_data"
    }
   ],
   "source": [
    "plt.plot(delta_space_, np.abs(smz_)/L)"
   ]
  },
  {
   "cell_type": "code",
   "execution_count": null,
   "id": "df7a67d0",
   "metadata": {},
   "outputs": [],
   "source": []
  }
 ],
 "metadata": {
  "kernelspec": {
   "display_name": "Python 3",
   "language": "python",
   "name": "python3"
  },
  "language_info": {
   "codemirror_mode": {
    "name": "ipython",
    "version": 3
   },
   "file_extension": ".py",
   "mimetype": "text/x-python",
   "name": "python",
   "nbconvert_exporter": "python",
   "pygments_lexer": "ipython3",
   "version": "3.8.8"
  }
 },
 "nbformat": 4,
 "nbformat_minor": 5
}
