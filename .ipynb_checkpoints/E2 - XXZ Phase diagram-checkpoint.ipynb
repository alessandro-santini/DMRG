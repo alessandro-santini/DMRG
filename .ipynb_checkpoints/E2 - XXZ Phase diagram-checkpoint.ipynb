{
 "cells": [
  {
   "cell_type": "code",
   "execution_count": 1,
   "id": "3b936bf8",
   "metadata": {},
   "outputs": [],
   "source": [
    "import dmrg1 as dmrg1\n",
    "import MPO_class as MPO\n",
    "\n",
    "import matplotlib.pyplot as plt\n",
    "import numpy as np\n",
    "\n",
    "plt.rc('text',usetex=True)"
   ]
  },
  {
   "cell_type": "code",
   "execution_count": null,
   "id": "4928576b",
   "metadata": {},
   "outputs": [],
   "source": [
    "L   = 128\n",
    "chi = 64\n",
    "\n",
    "h_space     = np.linspace(-1.,1.,32)\n",
    "delta_space = np.linsapce(-1.5,1.5,32)\n",
    "\n",
    "H = MPO.XXZMPO(L,)"
   ]
  }
 ],
 "metadata": {
  "kernelspec": {
   "display_name": "Python 3",
   "language": "python",
   "name": "python3"
  },
  "language_info": {
   "codemirror_mode": {
    "name": "ipython",
    "version": 3
   },
   "file_extension": ".py",
   "mimetype": "text/x-python",
   "name": "python",
   "nbconvert_exporter": "python",
   "pygments_lexer": "ipython3",
   "version": "3.8.8"
  }
 },
 "nbformat": 4,
 "nbformat_minor": 5
}
