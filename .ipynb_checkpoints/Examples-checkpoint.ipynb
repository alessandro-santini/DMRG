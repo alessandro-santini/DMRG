{
 "cells": [
  {
   "cell_type": "code",
   "execution_count": 1,
   "id": "d7cb48cb",
   "metadata": {},
   "outputs": [],
   "source": [
    "import dmrg1\n",
    "import dmrg2\n",
    "import numpy as np\n",
    "import matplotlib.pyplot as plt\n",
    "import MPO_class as MPO\n",
    "\n",
    "plt.rc('text',usetex=True)"
   ]
  },
  {
   "cell_type": "markdown",
   "id": "1e46f5aa",
   "metadata": {},
   "source": [
    "We consider the XXZ model\\begin{equation}\n",
    "H = \\frac{1}{2}\\sum_{j=0}^{L-1} \\left(S^-_jS^+_{j+1} + S^+_jS^-_{j+1} +2\\Delta S^z_jS^z_{j+1} \\right) - h \\sum_{j=0}^L S^z_j\n",
    "\\end{equation}\n",
    "compute its ground state and check the convergence looking at\\begin{equation}\n",
    "\\sigma_E^2 = \\langle\\psi|H^2|\\psi\\rangle-\\left(\\langle\\psi|H|\\psi\\rangle\\right)^2\n",
    "\\end{equation}"
   ]
  },
  {
   "cell_type": "code",
   "execution_count": 16,
   "id": "ebf37242",
   "metadata": {},
   "outputs": [],
   "source": [
    "# Sets the parameters of the model\n",
    "L     = 128\n",
    "delta = 0.2\n",
    "h     = 0.\n",
    "# DMRG parameters\n",
    "chi = 30\n",
    "nsweeps = 10\n",
    "\n",
    "H = MPO.XXZMPO(L,delta,h)\n",
    "alg = dmrg1.DMRG1(H)\n",
    "alg.initialize(chi)\n",
    "\n",
    "err30 = np.zeros(nsweeps)\n",
    "for n in range(nsweeps):\n",
    "    alg.right_sweep()\n",
    "    alg.left_sweep()\n",
    "    err30[n] = alg.check_convergence().real"
   ]
  },
  {
   "cell_type": "code",
   "execution_count": 26,
   "id": "7373d2af",
   "metadata": {},
   "outputs": [
    {
     "data": {
      "image/png": "[encoded data removed]",
      "text/plain": [
       "<Figure size 432x288 with 1 Axes>"
      ]
     },
     "metadata": {
      "needs_background": "light"
     },
     "output_type": "display_data"
    }
   ],
   "source": [
    "plt.plot(np.arange(1,nsweeps+1),err30,'o',color='xkcd:crimson',markersize=4,label=r\"$\\chi = 30$\")\n",
    "\n",
    "plt.xlabel(\"$n$\", fontsize=23)\n",
    "plt.ylabel(r\"$\\sigma_E^2$\", fontsize=23)\n",
    "plt.tick_params(labelsize=20)\n",
    "plt.legend(fontsize=18)\n",
    "plt.xticks(np.arange(1,nsweeps+1))\n",
    "plt.yscale('log')"
   ]
  },
  {
   "cell_type": "markdown",
   "id": "e82c8bdb",
   "metadata": {},
   "source": [
    "With higher bond dimension we obtain a better convergence of the ground state energy"
   ]
  },
  {
   "cell_type": "code",
   "execution_count": 47,
   "id": "73d68d88",
   "metadata": {},
   "outputs": [],
   "source": [
    "chi_space = [1,8,16,32,64,128]\n",
    "\n",
    "nsweeps = 7\n",
    "delta = -1\n",
    "H = MPO.XXZMPO(L,delta,h)\n",
    "\n",
    "errchi = np.zeros((len(chi_space),nsweeps))\n",
    "for n,chi in enumerate(chi_space):\n",
    "    alg.initialize(chi)\n",
    "    for m in range(nsweeps):\n",
    "        alg.right_sweep()\n",
    "        alg.left_sweep()\n",
    "        errchi[n,m] = alg.check_convergence().real"
   ]
  },
  {
   "cell_type": "code",
   "execution_count": 48,
   "id": "9e34c24c",
   "metadata": {},
   "outputs": [
    {
     "data": {
      "image/png": "[encoded data removed]",
      "text/plain": [
       "<Figure size 432x288 with 1 Axes>"
      ]
     },
     "metadata": {
      "needs_background": "light"
     },
     "output_type": "display_data"
    }
   ],
   "source": [
    "for n,chi in enumerate(chi_space):\n",
    "    plt.plot(np.arange(1,nsweeps+1),errchi[n,:],'o',markersize=4,label=r\"$\\chi=%d$\"%(chi))\n",
    "    \n",
    "plt.xlabel(\"$n$\", fontsize=23)\n",
    "plt.ylabel(r\"$\\sigma_E^2$\", fontsize=23)\n",
    "plt.tick_params(labelsize=20)\n",
    "plt.legend(loc='center left', bbox_to_anchor=(1, 0.5),fontsize=16)\n",
    "plt.xticks(np.arange(1,nsweeps+1))\n",
    "plt.yscale('log')"
   ]
  },
  {
   "cell_type": "markdown",
   "id": "1525404e",
   "metadata": {},
   "source": [
    "With the algorithm DMRG2 we can modify the bond dimention during the sweeps"
   ]
  },
  {
   "cell_type": "code",
   "execution_count": 2,
   "id": "7b29fbeb",
   "metadata": {},
   "outputs": [
    {
     "ename": "NameError",
     "evalue": "name 'chi' is not defined",
     "output_type": "error",
     "traceback": [
      "\u001b[1;31m---------------------------------------------------------------------------\u001b[0m",
      "\u001b[1;31mNameError\u001b[0m                                 Traceback (most recent call last)",
      "\u001b[1;32m<ipython-input-2-8614655aa93e>\u001b[0m in \u001b[0;36m<module>\u001b[1;34m\u001b[0m\n\u001b[0;32m      6\u001b[0m \u001b[0mH\u001b[0m \u001b[1;33m=\u001b[0m \u001b[0mMPO\u001b[0m\u001b[1;33m.\u001b[0m\u001b[0mXXZMPO\u001b[0m\u001b[1;33m(\u001b[0m\u001b[0mL\u001b[0m\u001b[1;33m,\u001b[0m\u001b[0mdelta\u001b[0m\u001b[1;33m,\u001b[0m\u001b[0mh\u001b[0m\u001b[1;33m)\u001b[0m\u001b[1;33m\u001b[0m\u001b[1;33m\u001b[0m\u001b[0m\n\u001b[0;32m      7\u001b[0m \u001b[0malg\u001b[0m \u001b[1;33m=\u001b[0m \u001b[0mdmrg2\u001b[0m\u001b[1;33m.\u001b[0m\u001b[0mDMRG2\u001b[0m\u001b[1;33m(\u001b[0m\u001b[0mH\u001b[0m\u001b[1;33m)\u001b[0m\u001b[1;33m\u001b[0m\u001b[1;33m\u001b[0m\u001b[0m\n\u001b[1;32m----> 8\u001b[1;33m \u001b[0malg\u001b[0m\u001b[1;33m.\u001b[0m\u001b[0minitialize\u001b[0m\u001b[1;33m(\u001b[0m\u001b[0mchi\u001b[0m\u001b[1;33m)\u001b[0m\u001b[1;33m\u001b[0m\u001b[1;33m\u001b[0m\u001b[0m\n\u001b[0m\u001b[0;32m      9\u001b[0m \u001b[0merr\u001b[0m \u001b[1;33m=\u001b[0m \u001b[0mnp\u001b[0m\u001b[1;33m.\u001b[0m\u001b[0mzeros_like\u001b[0m\u001b[1;33m(\u001b[0m\u001b[0mchi_space\u001b[0m\u001b[1;33m)\u001b[0m\u001b[1;33m\u001b[0m\u001b[1;33m\u001b[0m\u001b[0m\n\u001b[0;32m     10\u001b[0m \u001b[1;32mfor\u001b[0m \u001b[0mi\u001b[0m\u001b[1;33m,\u001b[0m\u001b[0mchi\u001b[0m \u001b[1;32min\u001b[0m \u001b[0menumerate\u001b[0m\u001b[1;33m(\u001b[0m\u001b[0mchi_space\u001b[0m\u001b[1;33m)\u001b[0m\u001b[1;33m:\u001b[0m\u001b[1;33m\u001b[0m\u001b[1;33m\u001b[0m\u001b[0m\n",
      "\u001b[1;31mNameError\u001b[0m: name 'chi' is not defined"
     ]
    }
   ],
   "source": [
    "L     = 128\n",
    "delta = 0.2\n",
    "h     = 0.\n",
    "\n",
    "chi_space = [8,16,32,64,128,256,256]\n",
    "H = MPO.XXZMPO(L,delta,h)\n",
    "alg = dmrg2.DMRG2(H)\n",
    "alg.initialize(chi_space[0])\n",
    "err = np.zeros_like(chi_space)\n",
    "for i,chi in enumerate(chi_space):\n",
    "    alg.right_sweep(chi)\n",
    "    alg.left_sweep(chi)\n",
    "    err[i] = alg.check_convergence().real"
   ]
  },
  {
   "cell_type": "code",
   "execution_count": 57,
   "id": "c22f33b6",
   "metadata": {},
   "outputs": [
    {
     "name": "stderr",
     "output_type": "stream",
     "text": [
      "<ipython-input-57-25597e2661f9>:8: UserWarning: Data has no positive values, and therefore cannot be log-scaled.\n",
      "  plt.yscale('log')\n"
     ]
    },
    {
     "data": {
      "image/png": "[encoded data removed]",
      "text/plain": [
       "<Figure size 432x288 with 1 Axes>"
      ]
     },
     "metadata": {
      "needs_background": "light"
     },
     "output_type": "display_data"
    }
   ],
   "source": [
    "plt.plot(np.arange(1,len(chi_space)+1),err,'o',color='xkcd:crimson',markersize=4,label=r\"$\\chi = 30$\")\n",
    "\n",
    "plt.xlabel(\"$n$\", fontsize=23)\n",
    "plt.ylabel(r\"$\\sigma_E^2$\", fontsize=23)\n",
    "plt.tick_params(labelsize=20)\n",
    "plt.legend(fontsize=18)\n",
    "plt.xticks(np.arange(1,nsweeps+1))\n",
    "plt.yscale('log')"
   ]
  }
 ],
 "metadata": {
  "kernelspec": {
   "display_name": "Python 3",
   "language": "python",
   "name": "python3"
  },
  "language_info": {
   "codemirror_mode": {
    "name": "ipython",
    "version": 3
   },
   "file_extension": ".py",
   "mimetype": "text/x-python",
   "name": "python",
   "nbconvert_exporter": "python",
   "pygments_lexer": "ipython3",
   "version": "3.8.8"
  }
 },
 "nbformat": 4,
 "nbformat_minor": 5
}
