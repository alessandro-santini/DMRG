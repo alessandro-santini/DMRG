{
 "cells": [
  {
   "cell_type": "code",
   "execution_count": 15,
   "id": "5e78cdbf",
   "metadata": {},
   "outputs": [],
   "source": [
    "import dmrg1 as dmrg1\n",
    "import MPO_class as MPO\n",
    "import MPS_class as MPS\n",
    "\n",
    "import matplotlib.pyplot as plt\n",
    "import numpy as np\n",
    "\n",
    "plt.rc('text',usetex=True)"
   ]
  },
  {
   "cell_type": "code",
   "execution_count": 2,
   "id": "ddabf01b",
   "metadata": {},
   "outputs": [
    {
     "name": "stderr",
     "output_type": "stream",
     "text": [
      "C:\\Users\\asant\\Documents\\GitHub\\DMRG\\LanczosRoutines.py:38: RuntimeWarning: beta[3] ~= 0 encountered during Lanczos iteration.\n",
      "  warnings.warn(\n",
      "C:\\Users\\asant\\Documents\\GitHub\\DMRG\\LanczosRoutines.py:38: RuntimeWarning: beta[0] ~= 0 encountered during Lanczos iteration.\n",
      "  warnings.warn(\n"
     ]
    }
   ],
   "source": [
    "# Model parameters\n",
    "L   = 128\n",
    "h   = 1.\n",
    "H   = MPO.IsingMPO(L, 1.)\n",
    "\n",
    "chi = 256\n",
    "engine = dmrg1.DMRG1(H)\n",
    "engine.initialize(chi)\n",
    "\n",
    "for i, chi in enumerate(chi_space):\n",
    "    for n_steps in range(10):\n",
    "        engine.dmrg_step()"
   ]
  },
  {
   "cell_type": "code",
   "execution_count": 17,
   "id": "50f0edad",
   "metadata": {},
   "outputs": [],
   "source": [
    "sigma_x = np.array([[0,1],[1,0]]).reshape(1,1,2,2)\n",
    "sigma_z = np.array([[1,0],[0,-1]]).reshape(1,1,2,2)\n",
    "\n",
    "Cxx = np.ones(L)\n",
    "Czz = np.ones(L)\n",
    "\n",
    "MPS_temp = MPS.MPS(L,10,2)\n",
    "MPS_temp.M = engine.MPS.M.copy()\n",
    "\n",
    "for j in np.arange(0,L):\n",
    "    if j < L//2:\n",
    "        MPS_temp.mix_normalize(j)\n",
    "    if j == L/2:\n",
    "        MPS_temp.mix_normalize(j)\n",
    "    if j<L//2:\n",
    "        Cxx[j] = MPO.ComputeCorrFunction(MPS_temp, j, L//2, sigma_x, sigma_x).real\n",
    "        Czz[j] = MPO.ComputeCorrFunction(MPS_temp, j, L//2, sigma_z, sigma_z).real\n",
    "    if j>L//2:\n",
    "        Cxx[j] = MPO.ComputeCorrFunction(MPS_temp, L//2, j, sigma_x, sigma_x).real\n",
    "        Czz[j] = MPO.ComputeCorrFunction(MPS_temp, L//2, j, sigma_z, sigma_z).real"
   ]
  },
  {
   "cell_type": "code",
   "execution_count": 25,
   "id": "0404cd6e",
   "metadata": {},
   "outputs": [
    {
     "data": {
      "image/png": "[encoded data removed]",
      "text/plain": [
       "<Figure size 432x288 with 1 Axes>"
      ]
     },
     "metadata": {
      "needs_background": "light"
     },
     "output_type": "display_data"
    }
   ],
   "source": [
    "plt.plot(Czz[L//2:])\n",
    "plt.yscale('log')"
   ]
  },
  {
   "cell_type": "code",
   "execution_count": 23,
   "id": "c65342a5",
   "metadata": {},
   "outputs": [
    {
     "data": {
      "text/plain": [
       "array([0.54369769, 0.11650997, 0.05560862, 0.02718721, 0.01341513,\n",
       "       0.00664943, 0.00330429, 0.00164458, 0.00163875, 0.00163413,\n",
       "       0.00163038, 0.00162727, 0.00162466, 0.00162244, 0.00162053,\n",
       "       0.00161886, 0.0016174 , 0.00161611, 0.00161497, 0.00161395,\n",
       "       0.00161303, 0.0016122 , 0.00161145, 0.00161077, 0.00161015,\n",
       "       0.00160959, 0.00160907, 0.00160859, 0.00160816, 0.00160776,\n",
       "       0.00160739, 0.00160706, 0.00160675, 0.00160646, 0.0016062 ,\n",
       "       0.00160596, 0.00160575, 0.00160555, 0.00160538, 0.00160522,\n",
       "       0.00160509, 0.00160497, 0.00160488, 0.00160481, 0.00160476,\n",
       "       0.00160473, 0.00160474, 0.00160477, 0.00160484, 0.00160496,\n",
       "       0.00160514, 0.00160538, 0.00160572, 0.00160618, 0.00160682,\n",
       "       0.00160771, 0.00160899, 0.00161088, 0.00161383, 0.00161878,\n",
       "       0.00162801, 0.00164834, 0.00170938, 0.00213672, 1.        ,\n",
       "       0.00213672, 0.00170939, 0.00164836, 0.00162803, 0.00161881,\n",
       "       0.00161387, 0.00161092, 0.00160903, 0.00160777, 0.00160688,\n",
       "       0.00160625, 0.0016058 , 0.00160546, 0.00160523, 0.00160506,\n",
       "       0.00160495, 0.00160489, 0.00160486, 0.00160487, 0.0016049 ,\n",
       "       0.00160496, 0.00160504, 0.00160515, 0.00160528, 0.00160543,\n",
       "       0.0016056 , 0.00160579, 0.001606  , 0.00160623, 0.00160649,\n",
       "       0.00160677, 0.00160708, 0.00160741, 0.00160778, 0.00160818,\n",
       "       0.00160861, 0.00160908, 0.0016096 , 0.00161016, 0.00161078,\n",
       "       0.00161146, 0.00161221, 0.00161304, 0.00161395, 0.00161498,\n",
       "       0.00161612, 0.00161741, 0.00161887, 0.00162053, 0.00162245,\n",
       "       0.00162467, 0.00162728, 0.00163038, 0.00163413, 0.00163875,\n",
       "       0.00164458, 0.00165215, 0.00166236, 0.00167689, 0.0016992 ,\n",
       "       0.00173777, 0.00182047, 0.00212382])"
      ]
     },
     "execution_count": 23,
     "metadata": {},
     "output_type": "execute_result"
    }
   ],
   "source": [
    "Czz"
   ]
  }
 ],
 "metadata": {
  "kernelspec": {
   "display_name": "Python 3",
   "language": "python",
   "name": "python3"
  },
  "language_info": {
   "codemirror_mode": {
    "name": "ipython",
    "version": 3
   },
   "file_extension": ".py",
   "mimetype": "text/x-python",
   "name": "python",
   "nbconvert_exporter": "python",
   "pygments_lexer": "ipython3",
   "version": "3.8.8"
  }
 },
 "nbformat": 4,
 "nbformat_minor": 5
}
