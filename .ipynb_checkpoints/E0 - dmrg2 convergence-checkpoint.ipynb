{
 "cells": [
  {
   "cell_type": "markdown",
   "id": "b2a24622",
   "metadata": {},
   "source": [
    "We study the convergence of the DMRG2 code varying $\\chi$"
   ]
  },
  {
   "cell_type": "code",
   "execution_count": 1,
   "id": "4b6456c1",
   "metadata": {},
   "outputs": [],
   "source": [
    "import dmrg2 as dmrg2\n",
    "import MPO_class as MPO\n",
    "\n",
    "import matplotlib.pyplot as plt\n",
    "import numpy as np\n",
    "\n",
    "plt.rc('text',usetex=True)"
   ]
  },
  {
   "cell_type": "code",
   "execution_count": 10,
   "id": "01118401",
   "metadata": {},
   "outputs": [
    {
     "name": "stderr",
     "output_type": "stream",
     "text": [
      "C:\\Users\\asant\\Documents\\GitHub\\DMRG\\LanczosRoutines.py:38: RuntimeWarning: beta[3] ~= 0 encountered during Lanczos iteration.\n",
      "  warnings.warn(\n",
      "C:\\Users\\asant\\Documents\\GitHub\\DMRG\\LanczosRoutines.py:38: RuntimeWarning: beta[7] ~= 0 encountered during Lanczos iteration.\n",
      "  warnings.warn(\n",
      "C:\\Users\\asant\\Documents\\GitHub\\DMRG\\LanczosRoutines.py:38: RuntimeWarning: beta[0] ~= 0 encountered during Lanczos iteration.\n",
      "  warnings.warn(\n"
     ]
    }
   ],
   "source": [
    "# DMRG parameters\n",
    "chi_space = np.array([2**x for x in range(0,9)])\n",
    "stdchi = np.zeros(chi_space.size)\n",
    "\n",
    "# Model parameters\n",
    "L   = 128\n",
    "h   = 1.\n",
    "H   = MPO.IsingMPO(L,1.)\n",
    "engine = dmrg2.DMRG2(H)\n",
    "engine.initialize(chi_space[0])\n",
    "\n",
    "for i, chi in enumerate(chi_space):\n",
    "    for n_steps in range(2):\n",
    "        engine.dmrg_step(chi)\n",
    "    stdchi[i] = engine.check_convergence().real"
   ]
  },
  {
   "cell_type": "code",
   "execution_count": 18,
   "id": "f21d3d7a",
   "metadata": {},
   "outputs": [
    {
     "data": {
      "image/png": "[encoded data removed]",
      "text/plain": [
       "<Figure size 432x288 with 1 Axes>"
      ]
     },
     "metadata": {
      "needs_background": "light"
     },
     "output_type": "display_data"
    }
   ],
   "source": [
    "plt.plot(chi_space,np.abs(stdchi),'o',color='xkcd:crimson')\n",
    "plt.plot(chi_space,np.abs(stdchi),'--k',linewidth=0.7)\n",
    "plt.xlabel(\"$\\chi$\",fontsize=22)\n",
    "plt.ylabel(r\"$\\sigma_E$\", fontsize=22)\n",
    "plt.tick_params(labelsize=16)\n",
    "plt.yscale('log')\n",
    "plt.xscale('log')"
   ]
  }
 ],
 "metadata": {
  "kernelspec": {
   "display_name": "Python 3",
   "language": "python",
   "name": "python3"
  },
  "language_info": {
   "codemirror_mode": {
    "name": "ipython",
    "version": 3
   },
   "file_extension": ".py",
   "mimetype": "text/x-python",
   "name": "python",
   "nbconvert_exporter": "python",
   "pygments_lexer": "ipython3",
   "version": "3.8.8"
  }
 },
 "nbformat": 4,
 "nbformat_minor": 5
}
