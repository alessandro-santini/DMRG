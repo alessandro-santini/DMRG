{
 "cells": [
  {
   "cell_type": "code",
   "execution_count": 26,
   "id": "2218905e",
   "metadata": {},
   "outputs": [],
   "source": [
    "import dmrg1 as dmrg1\n",
    "import MPO_class as MPO\n",
    "import MPS_class as MPS\n",
    "\n",
    "import matplotlib.pyplot as plt\n",
    "import numpy as np\n",
    "\n",
    "plt.rc('text',usetex=True)"
   ]
  },
  {
   "cell_type": "code",
   "execution_count": 27,
   "id": "6ab00db0",
   "metadata": {},
   "outputs": [
    {
     "name": "stderr",
     "output_type": "stream",
     "text": [
      "C:\\Users\\asant\\Documents\\GitHub\\DMRG\\LanczosRoutines.py:38: RuntimeWarning: beta[0] ~= 0 encountered during Lanczos iteration.\n",
      "  warnings.warn(\n"
     ]
    }
   ],
   "source": [
    "# Model parameters\n",
    "L   = 128\n",
    "h   = 1.\n",
    "H   = MPO.IsingMPO(L, 1.)\n",
    "\n",
    "chi = 256\n",
    "engine = dmrg1.DMRG1(H)\n",
    "engine.initialize(chi)\n",
    "\n",
    "for i, chi in enumerate(chi_space):\n",
    "    for n_steps in range(10):\n",
    "        engine.dmrg_step()"
   ]
  },
  {
   "cell_type": "code",
   "execution_count": 28,
   "id": "1972c346",
   "metadata": {},
   "outputs": [],
   "source": [
    "sigma_x = np.array([[0,1],[1,0]]).reshape(1,1,2,2)\n",
    "sigma_z = np.array([[1,0],[0,-1]]).reshape(1,1,2,2)\n",
    "\n",
    "Cxx = np.ones(L)\n",
    "Czz = np.ones(L)\n",
    "\n",
    "MPS_temp = MPS.MPS(L,10,2)\n",
    "MPS_temp.M = engine.MPS.M.copy()\n",
    "\n",
    "for j in np.arange(0,L):\n",
    "    if j < L//2:\n",
    "        MPS_temp.mix_normalize(j)\n",
    "    if j == L/2:\n",
    "        MPS_temp.mix_normalize(j)\n",
    "    if j<L//2:\n",
    "        Cxx[j] = MPO.ComputeCorrFunction(MPS_temp, j, L//2, sigma_x, sigma_x).real\n",
    "        Czz[j] = MPO.ComputeCorrFunction(MPS_temp, j, L//2, sigma_z, sigma_z).real\n",
    "    if j>L//2:\n",
    "        Cxx[j] = MPO.ComputeCorrFunction(MPS_temp, L//2, j, sigma_x, sigma_x).real\n",
    "        Czz[j] = MPO.ComputeCorrFunction(MPS_temp, L//2, j, sigma_z, sigma_z).real"
   ]
  },
  {
   "cell_type": "code",
   "execution_count": 36,
   "id": "75485e57",
   "metadata": {},
   "outputs": [
    {
     "data": {
      "image/png": "[encoded data removed]",
      "text/plain": [
       "<Figure size 432x288 with 1 Axes>"
      ]
     },
     "metadata": {
      "needs_background": "light"
     },
     "output_type": "display_data"
    }
   ],
   "source": [
    "plt.plot(Cxx[L//2:])\n",
    "plt.xscale('linear')\n",
    "plt.yscale('log')"
   ]
  }
 ],
 "metadata": {
  "kernelspec": {
   "display_name": "Python 3",
   "language": "python",
   "name": "python3"
  },
  "language_info": {
   "codemirror_mode": {
    "name": "ipython",
    "version": 3
   },
   "file_extension": ".py",
   "mimetype": "text/x-python",
   "name": "python",
   "nbconvert_exporter": "python",
   "pygments_lexer": "ipython3",
   "version": "3.8.8"
  }
 },
 "nbformat": 4,
 "nbformat_minor": 5
}
