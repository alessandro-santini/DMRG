{
 "cells": [
  {
   "cell_type": "code",
   "execution_count": 1,
   "id": "5ae3abe1",
   "metadata": {},
   "outputs": [],
   "source": [
    "import dmrg1 as dmrg1\n",
    "import MPO_class as MPO\n",
    "\n",
    "import matplotlib.pyplot as plt\n",
    "import numpy as np\n",
    "\n",
    "plt.rc('text',usetex=True)"
   ]
  },
  {
   "cell_type": "code",
   "execution_count": null,
   "id": "bd473e08",
   "metadata": {},
   "outputs": [],
   "source": [
    "L   = 128\n",
    "chi = 64\n",
    "\n",
    "h_space     = np.linspace(-1.,1.,11)\n",
    "delta_space = np.linspace(-1.5,1.5,11)\n",
    "\n",
    "Mz  = MPO.getMzMPO(L)\n",
    "\n",
    "mz  = np.zeros((h_space.size,delta_space.size))\n",
    "\n",
    "for i, h in enumerate(h_space):\n",
    "    for j, delta in enumerate(delta_space):\n",
    "        print(i,j)\n",
    "        H = MPO.XXZMPO(L, delta, h)\n",
    "        engine = dmrg1.DMRG1(H)\n",
    "        engine.initialize(chi)\n",
    "        for n in range(8):\n",
    "            engine.dmrg_step()\n",
    "        mz[i,j] = Mz.contractMPOMPS(engine.MPS).real"
   ]
  },
  {
   "cell_type": "code",
   "execution_count": 32,
   "id": "57f12b50",
   "metadata": {},
   "outputs": [
    {
     "data": {
      "image/png": "[encoded data removed]",
      "text/plain": [
       "<Figure size 720x576 with 2 Axes>"
      ]
     },
     "metadata": {
      "needs_background": "light"
     },
     "output_type": "display_data"
    }
   ],
   "source": [
    "plt.figure(figsize=(10,8))\n",
    "plt.subplot(121)\n",
    "plt.imshow(np.abs(mz)/L,origin='lower',cmap=plt.cm.hot, extent = [delta_space[0],delta_space[-1],h_space[0],h_space[-1]])\n",
    "cb = plt.colorbar(orientation='horizontal')\n",
    "cb.ax.tick_params(labelsize=20)\n",
    "cb.set_label(\"$m_z$\", fontsize=20)\n",
    "plt.tick_params(labelsize=20)\n",
    "plt.xlabel(r\"$\\Delta$\",fontsize=32)\n",
    "plt.ylabel(r\"$h$\", fontsize=32)\n",
    "plt.tight_layout()\n",
    "plt.savefig(\"XXZ_PhaseDiag.png\",format='png',dpi=400)"
   ]
  }
 ],
 "metadata": {
  "kernelspec": {
   "display_name": "Python 3",
   "language": "python",
   "name": "python3"
  },
  "language_info": {
   "codemirror_mode": {
    "name": "ipython",
    "version": 3
   },
   "file_extension": ".py",
   "mimetype": "text/x-python",
   "name": "python",
   "nbconvert_exporter": "python",
   "pygments_lexer": "ipython3",
   "version": "3.8.8"
  }
 },
 "nbformat": 4,
 "nbformat_minor": 5
}
